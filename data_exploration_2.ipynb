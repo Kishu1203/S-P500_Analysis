{
 "cells": [
  {
   "cell_type": "code",
   "execution_count": 3,
   "id": "1eeca505",
   "metadata": {},
   "outputs": [],
   "source": [
    "import pandas as pd "
   ]
  },
  {
   "cell_type": "code",
   "execution_count": 4,
   "id": "91e8aad5",
   "metadata": {},
   "outputs": [],
   "source": [
    "df2 = pd.read_csv('./data/constituents-financials.csv')"
   ]
  },
  {
   "cell_type": "code",
   "execution_count": 9,
   "id": "5ee4f8a3",
   "metadata": {},
   "outputs": [
    {
     "name": "stdout",
     "output_type": "stream",
     "text": [
      "<class 'pandas.core.frame.DataFrame'>\n",
      "RangeIndex: 503 entries, 0 to 502\n",
      "Data columns (total 14 columns):\n",
      " #   Column          Non-Null Count  Dtype  \n",
      "---  ------          --------------  -----  \n",
      " 0   Symbol          503 non-null    object \n",
      " 1   Name            503 non-null    object \n",
      " 2   Sector          503 non-null    object \n",
      " 3   Price           500 non-null    float64\n",
      " 4   Price/Earnings  475 non-null    float64\n",
      " 5   Dividend Yield  404 non-null    float64\n",
      " 6   Earnings/Share  499 non-null    float64\n",
      " 7   52 Week Low     500 non-null    float64\n",
      " 8   52 Week High    500 non-null    float64\n",
      " 9   Market Cap      500 non-null    float64\n",
      " 10  EBITDA          470 non-null    float64\n",
      " 11  Price/Sales     499 non-null    float64\n",
      " 12  Price/Book      468 non-null    float64\n",
      " 13  SEC Filings     503 non-null    object \n",
      "dtypes: float64(10), object(4)\n",
      "memory usage: 55.1+ KB\n"
     ]
    },
    {
     "data": {
      "text/html": [
       "<div>\n",
       "<style scoped>\n",
       "    .dataframe tbody tr th:only-of-type {\n",
       "        vertical-align: middle;\n",
       "    }\n",
       "\n",
       "    .dataframe tbody tr th {\n",
       "        vertical-align: top;\n",
       "    }\n",
       "\n",
       "    .dataframe thead th {\n",
       "        text-align: right;\n",
       "    }\n",
       "</style>\n",
       "<table border=\"1\" class=\"dataframe\">\n",
       "  <thead>\n",
       "    <tr style=\"text-align: right;\">\n",
       "      <th></th>\n",
       "      <th>Price</th>\n",
       "      <th>Price/Earnings</th>\n",
       "      <th>Dividend Yield</th>\n",
       "      <th>Earnings/Share</th>\n",
       "      <th>52 Week Low</th>\n",
       "      <th>52 Week High</th>\n",
       "      <th>Market Cap</th>\n",
       "      <th>EBITDA</th>\n",
       "      <th>Price/Sales</th>\n",
       "      <th>Price/Book</th>\n",
       "    </tr>\n",
       "  </thead>\n",
       "  <tbody>\n",
       "    <tr>\n",
       "      <th>count</th>\n",
       "      <td>500.000000</td>\n",
       "      <td>475.000000</td>\n",
       "      <td>404.000000</td>\n",
       "      <td>499.000000</td>\n",
       "      <td>500.000000</td>\n",
       "      <td>500.000000</td>\n",
       "      <td>5.000000e+02</td>\n",
       "      <td>4.700000e+02</td>\n",
       "      <td>499.000000</td>\n",
       "      <td>468.000000</td>\n",
       "    </tr>\n",
       "    <tr>\n",
       "      <th>mean</th>\n",
       "      <td>220.595210</td>\n",
       "      <td>39.697870</td>\n",
       "      <td>0.022930</td>\n",
       "      <td>8.247255</td>\n",
       "      <td>169.352248</td>\n",
       "      <td>255.222310</td>\n",
       "      <td>1.118863e+11</td>\n",
       "      <td>6.766010e+09</td>\n",
       "      <td>4.686632</td>\n",
       "      <td>8.747815</td>\n",
       "    </tr>\n",
       "    <tr>\n",
       "      <th>std</th>\n",
       "      <td>476.108873</td>\n",
       "      <td>77.846796</td>\n",
       "      <td>0.015408</td>\n",
       "      <td>25.273607</td>\n",
       "      <td>390.282964</td>\n",
       "      <td>564.872061</td>\n",
       "      <td>3.386191e+11</td>\n",
       "      <td>1.489911e+10</td>\n",
       "      <td>5.356813</td>\n",
       "      <td>21.287344</td>\n",
       "    </tr>\n",
       "    <tr>\n",
       "      <th>min</th>\n",
       "      <td>9.720000</td>\n",
       "      <td>3.115057</td>\n",
       "      <td>0.000200</td>\n",
       "      <td>-21.210000</td>\n",
       "      <td>6.640000</td>\n",
       "      <td>11.480000</td>\n",
       "      <td>5.102043e+09</td>\n",
       "      <td>-3.991000e+09</td>\n",
       "      <td>0.060163</td>\n",
       "      <td>0.436422</td>\n",
       "    </tr>\n",
       "    <tr>\n",
       "      <th>25%</th>\n",
       "      <td>68.605000</td>\n",
       "      <td>16.863880</td>\n",
       "      <td>0.011100</td>\n",
       "      <td>2.400000</td>\n",
       "      <td>52.170000</td>\n",
       "      <td>82.675000</td>\n",
       "      <td>1.961290e+10</td>\n",
       "      <td>1.633389e+09</td>\n",
       "      <td>1.599254</td>\n",
       "      <td>1.992150</td>\n",
       "    </tr>\n",
       "    <tr>\n",
       "      <th>50%</th>\n",
       "      <td>122.200000</td>\n",
       "      <td>25.607143</td>\n",
       "      <td>0.019950</td>\n",
       "      <td>5.240000</td>\n",
       "      <td>96.035000</td>\n",
       "      <td>146.585000</td>\n",
       "      <td>3.591050e+10</td>\n",
       "      <td>2.965374e+09</td>\n",
       "      <td>3.291713</td>\n",
       "      <td>3.580510</td>\n",
       "    </tr>\n",
       "    <tr>\n",
       "      <th>75%</th>\n",
       "      <td>233.727500</td>\n",
       "      <td>37.445392</td>\n",
       "      <td>0.032700</td>\n",
       "      <td>8.920000</td>\n",
       "      <td>182.837500</td>\n",
       "      <td>261.010000</td>\n",
       "      <td>8.101103e+10</td>\n",
       "      <td>6.017250e+09</td>\n",
       "      <td>5.983054</td>\n",
       "      <td>7.712931</td>\n",
       "    </tr>\n",
       "    <tr>\n",
       "      <th>max</th>\n",
       "      <td>8016.180000</td>\n",
       "      <td>1079.999900</td>\n",
       "      <td>0.108500</td>\n",
       "      <td>506.340000</td>\n",
       "      <td>7129.100000</td>\n",
       "      <td>9964.770000</td>\n",
       "      <td>3.572851e+12</td>\n",
       "      <td>1.365520e+11</td>\n",
       "      <td>71.009026</td>\n",
       "      <td>327.175230</td>\n",
       "    </tr>\n",
       "  </tbody>\n",
       "</table>\n",
       "</div>"
      ],
      "text/plain": [
       "             Price  Price/Earnings  Dividend Yield  Earnings/Share  \\\n",
       "count   500.000000      475.000000      404.000000      499.000000   \n",
       "mean    220.595210       39.697870        0.022930        8.247255   \n",
       "std     476.108873       77.846796        0.015408       25.273607   \n",
       "min       9.720000        3.115057        0.000200      -21.210000   \n",
       "25%      68.605000       16.863880        0.011100        2.400000   \n",
       "50%     122.200000       25.607143        0.019950        5.240000   \n",
       "75%     233.727500       37.445392        0.032700        8.920000   \n",
       "max    8016.180000     1079.999900        0.108500      506.340000   \n",
       "\n",
       "       52 Week Low  52 Week High    Market Cap        EBITDA  Price/Sales  \\\n",
       "count   500.000000    500.000000  5.000000e+02  4.700000e+02   499.000000   \n",
       "mean    169.352248    255.222310  1.118863e+11  6.766010e+09     4.686632   \n",
       "std     390.282964    564.872061  3.386191e+11  1.489911e+10     5.356813   \n",
       "min       6.640000     11.480000  5.102043e+09 -3.991000e+09     0.060163   \n",
       "25%      52.170000     82.675000  1.961290e+10  1.633389e+09     1.599254   \n",
       "50%      96.035000    146.585000  3.591050e+10  2.965374e+09     3.291713   \n",
       "75%     182.837500    261.010000  8.101103e+10  6.017250e+09     5.983054   \n",
       "max    7129.100000   9964.770000  3.572851e+12  1.365520e+11    71.009026   \n",
       "\n",
       "       Price/Book  \n",
       "count  468.000000  \n",
       "mean     8.747815  \n",
       "std     21.287344  \n",
       "min      0.436422  \n",
       "25%      1.992150  \n",
       "50%      3.580510  \n",
       "75%      7.712931  \n",
       "max    327.175230  "
      ]
     },
     "execution_count": 9,
     "metadata": {},
     "output_type": "execute_result"
    }
   ],
   "source": [
    "df2.head()\n",
    "df2.info()\n",
    "df2.size\n",
    "df2.shape\n",
    "df2.dtypes\n"
   ]
  },
  {
   "cell_type": "code",
   "execution_count": 32,
   "id": "38ad454a",
   "metadata": {},
   "outputs": [],
   "source": [
    "# Data Cleaning of Prices column\n",
    "df2['Price'].isnull().sum()\n",
    "df2.loc[df2['Price'].isnull(), :]\n",
    "df3 = df2.dropna(axis=0,subset=['Price'],inplace=False,ignore_index=True)\n"
   ]
  },
  {
   "cell_type": "code",
   "execution_count": 33,
   "id": "ca9c05f7",
   "metadata": {},
   "outputs": [
    {
     "name": "stderr",
     "output_type": "stream",
     "text": [
      "/var/folders/pm/9swc_rkd3gxfjt_55hy7qswr0000gp/T/ipykernel_815/1755996433.py:4: SettingWithCopyWarning: \n",
      "A value is trying to be set on a copy of a slice from a DataFrame.\n",
      "Try using .loc[row_indexer,col_indexer] = value instead\n",
      "\n",
      "See the caveats in the documentation: https://pandas.pydata.org/pandas-docs/stable/user_guide/indexing.html#returning-a-view-versus-a-copy\n",
      "  df4['Price/Earnings'] = df4['Price'] /df4['Earnings/Share']\n"
     ]
    },
    {
     "data": {
      "text/plain": [
       "np.int64(0)"
      ]
     },
     "execution_count": 33,
     "metadata": {},
     "output_type": "execute_result"
    }
   ],
   "source": [
    "# data cleaning of Price/Earnings\n",
    "df3['Price/Earnings'].isnull().sum()\n",
    "df4 = df3.loc[df3['Price/Earnings'].isnull(), :]\n",
    "df4['Price/Earnings'] = df4['Price'] /df4['Earnings/Share']\n",
    "df4.head(15)\n",
    "df5=df3.combine_first(df4) # It will fill the NaN values in df3 with the corresponding values from df4\n",
    "df5['Price/Earnings'].isnull().sum()\n",
    "\n",
    "\n"
   ]
  },
  {
   "cell_type": "code",
   "execution_count": 43,
   "id": "ea948fc6",
   "metadata": {},
   "outputs": [
    {
     "data": {
      "text/plain": [
       "np.int64(0)"
      ]
     },
     "execution_count": 43,
     "metadata": {},
     "output_type": "execute_result"
    }
   ],
   "source": [
    "# Data Cleaning for Dividend Yield\n",
    "df5['Dividend Yield'].isnull().sum()\n",
    "df5.loc[df5['Dividend Yield'].isnull(), :]\n",
    "df6 = df5.fillna(value={'Dividend Yield':0},inplace=False)\n",
    "df6['Dividend Yield'].isnull().sum()\n"
   ]
  },
  {
   "cell_type": "code",
   "execution_count": 48,
   "id": "2c66560b",
   "metadata": {},
   "outputs": [
    {
     "data": {
      "text/plain": [
       "np.int64(0)"
      ]
     },
     "execution_count": 48,
     "metadata": {},
     "output_type": "execute_result"
    }
   ],
   "source": [
    "# Data Cleaning for Earnings/Share\n",
    "df6['Earnings/Share'].isnull().sum()\n",
    "df6.loc[df6['Earnings/Share'].isnull(), :]\n",
    "df7 = df6.dropna(axis=0,subset=['Earnings/Share'],inplace=False,ignore_index=True)\n",
    "df7['Earnings/Share'].isnull().sum()"
   ]
  },
  {
   "cell_type": "code",
   "execution_count": 57,
   "id": "8b4cc55c",
   "metadata": {},
   "outputs": [
    {
     "data": {
      "text/plain": [
       "(470, 14)"
      ]
     },
     "execution_count": 57,
     "metadata": {},
     "output_type": "execute_result"
    }
   ],
   "source": [
    "df7['Market Cap'].isnull().sum()\n",
    "df7['52 Week Low'].isnull().sum()\n",
    "df7['52 Week High'].isnull().sum()\n",
    "df7['EBITDA'].isnull().sum()\n",
    "# Data cleaning for EBITDA  \n",
    "df7.loc[df7['EBITDA'].isnull(), :]\n",
    "df8 = df7.dropna(axis=0,subset=['EBITDA'],inplace=False,ignore_index=True)\n",
    "df8.shape"
   ]
  },
  {
   "cell_type": "code",
   "execution_count": null,
   "id": "ba126b7f",
   "metadata": {},
   "outputs": [],
   "source": [
    "df8['Price/Sales'].isnull().sum()\n",
    "# Data cleaning for Price/Book\n",
    "df8['Price/Book'].isnull().sum()\n",
    "df8.loc[df8['Price/Book'].isnull(), :]\n",
    "df9 = df8.fillna(value={'Price/Book':0},inplace=False)\n",
    "\n"
   ]
  },
  {
   "cell_type": "code",
   "execution_count": 78,
   "id": "ef634045",
   "metadata": {},
   "outputs": [],
   "source": [
    "# Save the cleaned DataFrame to a new CSV file\n",
    "df9.to_csv('./data/constituents-financials-cleaned.csv', index=False)"
   ]
  }
 ],
 "metadata": {
  "kernelspec": {
   "display_name": "myproject2",
   "language": "python",
   "name": "python3"
  },
  "language_info": {
   "codemirror_mode": {
    "name": "ipython",
    "version": 3
   },
   "file_extension": ".py",
   "mimetype": "text/x-python",
   "name": "python",
   "nbconvert_exporter": "python",
   "pygments_lexer": "ipython3",
   "version": "3.12.4"
  }
 },
 "nbformat": 4,
 "nbformat_minor": 5
}
